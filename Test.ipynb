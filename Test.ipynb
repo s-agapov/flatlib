{
 "cells": [
  {
   "cell_type": "code",
   "execution_count": 1,
   "id": "9641c25d-40ab-4a6c-aab1-5a9c2c58a2c0",
   "metadata": {
    "tags": []
   },
   "outputs": [],
   "source": [
    "import numpy as np\n",
    "import sys\n",
    "\n",
    "\n",
    "from flatlib import const\n",
    "from flatlib.datetime import Datetime\n",
    "from flatlib.geopos import GeoPos\n",
    "from flatlib.chart import Chart\n",
    "\n",
    "from dataclasses import dataclass\n",
    "import joblib\n",
    "import os"
   ]
  },
  {
   "cell_type": "code",
   "execution_count": 2,
   "id": "80151a28-4861-45b9-b0d2-98ceaa267133",
   "metadata": {
    "tags": []
   },
   "outputs": [],
   "source": [
    "planets = [const.SUN, const.MOON, const.SATURN, const.JUPITER, const.MARS, const.VENUS, const.MERCURY]\n",
    "houses = [const.HOUSE1, const.HOUSE2, const.HOUSE3, const.HOUSE4,  const.HOUSE5,  const.HOUSE6, \n",
    "          const.HOUSE7, const.HOUSE8, const.HOUSE9, const.HOUSE10, const.HOUSE11, const.HOUSE12]"
   ]
  },
  {
   "cell_type": "code",
   "execution_count": 3,
   "id": "34b3ee14-2c4f-40a9-bc8c-7facbfede6f1",
   "metadata": {
    "tags": []
   },
   "outputs": [],
   "source": [
    "birth_date = \"1977/04/22\"\n",
    "birth_time = \"20:14\"\n",
    "GMT_shift = '+05:00'\n",
    "pos = GeoPos(\"55n20\", \"63e55\") \n",
    "#pos = GeoPos(\"15n20\", \"63e55\") \n",
    "    \n",
    "calendar = 0 # gregorian\n",
    "date = Datetime(birth_date, birth_time, GMT_shift)\n"
   ]
  },
  {
   "cell_type": "code",
   "execution_count": 4,
   "id": "26d997de-c366-41c8-8c52-698b2108628e",
   "metadata": {
    "tags": []
   },
   "outputs": [
    {
     "name": "stdout",
     "output_type": "stream",
     "text": [
      "<Asc; Scorpio +05:18:06>\n",
      "<Sun; Taurus +02:22:11 +00:58:31>\n",
      "<Moon; Gemini +18:01:48 +11:50:27>\n",
      "<House1; Scorpio +00:00:00 30.0>\n",
      "<House10; Leo +00:00:00 30.0>\n",
      "<Syzygy; Aries +28:16:32 +12:00:40>\n"
     ]
    }
   ],
   "source": [
    "chart = Chart(date, pos, hsys=const.HOUSES_WHOLE_SIGN)\n",
    "chart_houses = Chart(date, pos, hsys=const.HOUSES_KOCH)\n",
    "sun = chart.get(const.SUN)\n",
    "moon = chart.get(const.MOON)\n",
    "house1 = chart.get(const.HOUSE1)\n",
    "house10 = chart.get(const.HOUSE10)\n",
    "\n",
    "\n",
    "print(chart.get(const.ASC))\n",
    "print(chart.get(const.SUN))\n",
    "print(chart.get(const.MOON))\n",
    "print(chart.get(const.HOUSE1))\n",
    "print(chart.get(const.HOUSE10))\n",
    "print(chart.get(const.SYZYGY))"
   ]
  },
  {
   "cell_type": "code",
   "execution_count": 14,
   "id": "7eba5469-aa86-458c-8304-49ae0cc6747e",
   "metadata": {
    "tags": []
   },
   "outputs": [
    {
     "data": {
      "text/plain": [
       "9.469076330418702"
      ]
     },
     "execution_count": 14,
     "metadata": {},
     "output_type": "execute_result"
    }
   ],
   "source": [
    "star = chart.getFixedStar(\"Aldebaran\")\n",
    "str(star)\n",
    "star.signlon"
   ]
  },
  {
   "cell_type": "code",
   "execution_count": 6,
   "id": "45ff458b-6314-4307-bf39-561d6e300758",
   "metadata": {
    "tags": []
   },
   "outputs": [
    {
     "name": "stdout",
     "output_type": "stream",
     "text": [
      "<Sun Aries +07:56:47 +00:58:31>\n"
     ]
    },
    {
     "data": {
      "text/plain": [
       "\"<Aldebaran Taurus +15:02:45 (0.86, 'Aldebaran,alTau')>\""
      ]
     },
     "execution_count": 6,
     "metadata": {},
     "output_type": "execute_result"
    }
   ],
   "source": [
    "#sid_chart = chart.to_sidereal_zodiac(const.AY_ALDEBARAN_15TAU)\n",
    "sid_chart = chart.to_sidereal_zodiac(const.AY_FAGAN_BRADLEY)\n",
    "print(sid_chart.get(const.SUN))\n",
    "\n",
    "star = sid_chart.getFixedStar(\"Aldebaran\")\n",
    "str(star)"
   ]
  },
  {
   "cell_type": "code",
   "execution_count": 7,
   "id": "4ef54848-4c3a-4ea3-8fd1-cfc82936f061",
   "metadata": {
    "tags": []
   },
   "outputs": [
    {
     "data": {
      "text/plain": [
       "<flatlib.lists.FixedStarList at 0x268ab1b3450>"
      ]
     },
     "execution_count": 7,
     "metadata": {},
     "output_type": "execute_result"
    }
   ],
   "source": [
    "chart.stars"
   ]
  },
  {
   "cell_type": "code",
   "execution_count": 23,
   "id": "a4d730a1-15d8-41cf-97eb-916dcb9fb0c3",
   "metadata": {
    "tags": []
   },
   "outputs": [
    {
     "data": {
      "text/plain": [
       "['+', 9, 28, 9]"
      ]
     },
     "execution_count": 23,
     "metadata": {},
     "output_type": "execute_result"
    }
   ],
   "source": [
    "from flatlib import angle\n",
    "angle.toString(star.signlon)\n",
    "angle.toList(star.signlon)"
   ]
  },
  {
   "cell_type": "code",
   "execution_count": null,
   "id": "a1d544ff-f05d-452c-8b4b-76fb9759d420",
   "metadata": {
    "tags": []
   },
   "outputs": [],
   "source": []
  },
  {
   "cell_type": "code",
   "execution_count": null,
   "id": "4837ed4c-6994-4f99-ae88-8a76676c98bc",
   "metadata": {
    "tags": []
   },
   "outputs": [],
   "source": []
  }
 ],
 "metadata": {
  "kernelspec": {
   "display_name": "Python 3 (ipykernel)",
   "language": "python",
   "name": "python3"
  },
  "language_info": {
   "codemirror_mode": {
    "name": "ipython",
    "version": 3
   },
   "file_extension": ".py",
   "mimetype": "text/x-python",
   "name": "python",
   "nbconvert_exporter": "python",
   "pygments_lexer": "ipython3",
   "version": "3.11.4"
  }
 },
 "nbformat": 4,
 "nbformat_minor": 5
}
