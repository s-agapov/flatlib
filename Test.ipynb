{
 "cells": [
  {
   "cell_type": "code",
   "execution_count": 11,
   "id": "9641c25d-40ab-4a6c-aab1-5a9c2c58a2c0",
   "metadata": {
    "tags": []
   },
   "outputs": [],
   "source": [
    "import numpy as np\n",
    "import sys\n",
    "\n",
    "\n",
    "from flatlib import const\n",
    "from flatlib.datetime import Datetime\n",
    "from flatlib.geopos import GeoPos\n",
    "from flatlib.chart import Chart\n",
    "from flatlib import angle\n",
    "\n",
    "from dataclasses import dataclass\n",
    "import joblib\n",
    "import os"
   ]
  },
  {
   "cell_type": "code",
   "execution_count": 9,
   "id": "80151a28-4861-45b9-b0d2-98ceaa267133",
   "metadata": {
    "tags": []
   },
   "outputs": [],
   "source": [
    "planets = [const.SUN, const.MOON, const.SATURN, const.JUPITER, const.MARS, const.VENUS, const.MERCURY]\n",
    "houses = [const.HOUSE1, const.HOUSE2, const.HOUSE3, const.HOUSE4,  const.HOUSE5,  const.HOUSE6, \n",
    "          const.HOUSE7, const.HOUSE8, const.HOUSE9, const.HOUSE10, const.HOUSE11, const.HOUSE12]\n",
    "\n",
    "\n",
    "def get_coord(point):\n",
    "    coord = angle.toList(point.signlon)\n",
    "    lon = (coord[1], coord[2], coord[3])\n",
    "    lat_grad = int(np.floor(point.lat))\n",
    "    lat_min = abs(int((point.lat - lat_grad) * 60))\n",
    "    lat = (lat_grad, lat_min)\n",
    "    return (lon, lat)"
   ]
  },
  {
   "cell_type": "code",
   "execution_count": 5,
   "id": "34b3ee14-2c4f-40a9-bc8c-7facbfede6f1",
   "metadata": {
    "tags": []
   },
   "outputs": [],
   "source": [
    "birth_date = \"1977/04/22\"\n",
    "birth_time = \"20:14\"\n",
    "GMT_shift = '+05:00'\n",
    "pos = GeoPos(\"55n20\", \"63e55\") \n",
    "#pos = GeoPos(\"15n20\", \"63e55\") \n",
    "    \n",
    "calendar = 0 # gregorian\n",
    "date = Datetime(birth_date, birth_time, GMT_shift)\n"
   ]
  },
  {
   "cell_type": "code",
   "execution_count": 6,
   "id": "26d997de-c366-41c8-8c52-698b2108628e",
   "metadata": {
    "tags": []
   },
   "outputs": [
    {
     "name": "stdout",
     "output_type": "stream",
     "text": [
      "<Asc; Scorpio +05:18:06>\n",
      "<Sun; Taurus +02:22:11 +00:58:31>\n",
      "<Moon; Gemini +18:01:48 +11:50:27>\n",
      "<House1; Scorpio +00:00:00 30.0>\n",
      "<House10; Leo +00:00:00 30.0>\n",
      "<Syzygy; Aries +28:16:32 +12:00:40>\n"
     ]
    }
   ],
   "source": [
    "chart = Chart(date, pos, hsys=const.HOUSES_WHOLE_SIGN)\n",
    "chart_houses = Chart(date, pos, hsys=const.HOUSES_KOCH)\n",
    "sun = chart.get(const.SUN)\n",
    "moon = chart.get(const.MOON)\n",
    "house1 = chart.get(const.HOUSE1)\n",
    "house10 = chart.get(const.HOUSE10)\n",
    "\n",
    "\n",
    "print(chart.get(const.ASC))\n",
    "print(chart.get(const.SUN))\n",
    "print(chart.get(const.MOON))\n",
    "print(chart.get(const.HOUSE1))\n",
    "print(chart.get(const.HOUSE10))\n",
    "print(chart.get(const.SYZYGY))"
   ]
  },
  {
   "cell_type": "code",
   "execution_count": 5,
   "id": "7eba5469-aa86-458c-8304-49ae0cc6747e",
   "metadata": {
    "tags": []
   },
   "outputs": [
    {
     "data": {
      "text/plain": [
       "<Menkalinan; Gemini +29:35:32>"
      ]
     },
     "execution_count": 5,
     "metadata": {},
     "output_type": "execute_result"
    }
   ],
   "source": [
    "star = chart.getFixedStar(\"Menkalinan\")\n",
    "star\n"
   ]
  },
  {
   "cell_type": "code",
   "execution_count": 13,
   "id": "45ff458b-6314-4307-bf39-561d6e300758",
   "metadata": {
    "tags": []
   },
   "outputs": [
    {
     "name": "stdout",
     "output_type": "stream",
     "text": [
      "<Sun; Aries +07:56:47 +00:58:31>\n"
     ]
    },
    {
     "data": {
      "text/plain": [
       "\"<Aldebaran; Taurus +15:02:45 (0.86, 'Aldebaran,alTau')>\""
      ]
     },
     "execution_count": 13,
     "metadata": {},
     "output_type": "execute_result"
    }
   ],
   "source": [
    "#sid_chart = chart.to_sidereal_zodiac(const.AY_ALDEBARAN_15TAU)\n",
    "sid_chart = chart.to_sidereal_zodiac(const.AY_FAGAN_BRADLEY)\n",
    "print(sid_chart.get(const.SUN))\n",
    "\n",
    "star = sid_chart.getFixedStar(\"Aldebaran\")\n",
    "str(star)"
   ]
  },
  {
   "cell_type": "code",
   "execution_count": null,
   "id": "4ef54848-4c3a-4ea3-8fd1-cfc82936f061",
   "metadata": {
    "tags": []
   },
   "outputs": [],
   "source": []
  },
  {
   "cell_type": "code",
   "execution_count": null,
   "id": "a4d730a1-15d8-41cf-97eb-916dcb9fb0c3",
   "metadata": {
    "tags": []
   },
   "outputs": [],
   "source": []
  },
  {
   "cell_type": "markdown",
   "id": "dbf693cd-36ee-478d-98c5-1b1a3993dfdb",
   "metadata": {
    "tags": []
   },
   "source": [
    "### Stars"
   ]
  },
  {
   "cell_type": "code",
   "execution_count": 15,
   "id": "a1d544ff-f05d-452c-8b4b-76fb9759d420",
   "metadata": {
    "tags": []
   },
   "outputs": [
    {
     "data": {
      "text/plain": [
       "[['achernar', 'aquarius', (20, 33, 35), (-60, 37)],\n",
       " ['agena', 'libra', (29, 3, 45), (-45, 51)],\n",
       " ['alcyone', 'taurus', (5, 14, 56), (4, 2)],\n",
       " ['aldebaran', 'taurus', (15, 2, 45), (-6, 31)],\n",
       " ['algenib', 'pisces', (14, 24, 46), (12, 35)],\n",
       " ['algol', 'taurus', (1, 25, 26), (22, 25)],\n",
       " ['algorab', 'virgo', (18, 43, 12), (-13, 48)],\n",
       " ['alnilam', 'taurus', (28, 43, 16), (-25, 29)],\n",
       " ['alphard', 'leo', (2, 32, 40), (-23, 36)],\n",
       " ['alphecca', 'libra', (17, 33, 42), (44, 19)],\n",
       " ['alpheratz', 'pisces', (19, 33, 53), (25, 40)],\n",
       " ['altair', 'capricorn', (7, 2, 4), (29, 18)],\n",
       " ['antares', 'scorpio', (15, 1, 42), (-5, 26)],\n",
       " ['arcturus', 'virgo', (29, 30, 6), (30, 45)],\n",
       " ['asellus_australis', 'cancer', (13, 59, 2), (0, 4)],\n",
       " ['asellus_borealis', 'cancer', (12, 48, 3), (3, 11)],\n",
       " ['bellatrix', 'taurus', (26, 12, 14), (-17, 10)],\n",
       " ['betelgeuse', 'gemini', (4, 0, 45), (-17, 58)],\n",
       " ['canopus', 'gemini', (20, 13, 8), (-76, 10)],\n",
       " ['capella', 'taurus', (27, 6, 54), (22, 51)],\n",
       " ['castor', 'gemini', (25, 30, 4), (10, 5)],\n",
       " ['deneb', 'aquarius', (10, 35, 21), (59, 54)],\n",
       " ['deneb_algedi', 'capricorn', (28, 48, 3), (-3, 24)],\n",
       " ['denebola', 'leo', (26, 53, 7), (12, 16)],\n",
       " ['fomalhaut', 'aquarius', (9, 6, 57), (-22, 52)],\n",
       " ['lesath', 'scorpio', (29, 16, 40), (-15, 59)],\n",
       " ['menkalinan', 'gemini', (5, 10, 8), (21, 30)],\n",
       " ['pollux', 'gemini', (28, 28, 47), (6, 40)],\n",
       " ['procyon', 'cancer', (1, 3, 0), (-17, 59)],\n",
       " ['regulus', 'leo', (5, 5, 41), (0, 27)],\n",
       " ['rigel', 'taurus', (22, 5, 10), (-32, 52)],\n",
       " ['rigel_kentaurus', 'scorpio', (4, 46, 46), (-43, 24)],\n",
       " ['rukbat', 'sagittarius', (21, 53, 54), (-19, 37)],\n",
       " ['sirius', 'gemini', (19, 20, 42), (-40, 23)],\n",
       " ['spica', 'virgo', (29, 6, 31), (-3, 56)],\n",
       " ['unukalhai', 'libra', (27, 20, 27), (25, 30)],\n",
       " ['vega', 'sagittarius', (20, 34, 48), (61, 43)],\n",
       " ['zuben_eshamali', 'libra', (24, 38, 20), (8, 29)]]"
      ]
     },
     "execution_count": 15,
     "metadata": {},
     "output_type": "execute_result"
    }
   ],
   "source": [
    "chart = sid_chart\n",
    "stars_pos = []\n",
    "for star in const.LIST_FIXED_STARS:\n",
    "    point = chart.getFixedStar(str(star))\n",
    "    point_name = star.lower()\n",
    "    point_name = \"_\".join(point_name.split(\" \"))\n",
    "    \n",
    "    lon, lat = get_coord(point)\n",
    "    point_pos = [point_name, \n",
    "                 point.sign.lower(),\n",
    "                 lon, lat]\n",
    "    stars_pos.append(point_pos)\n",
    "    \n",
    "stars_pos.sort(key = lambda x:x[0])\n",
    "stars_pos"
   ]
  }
 ],
 "metadata": {
  "kernelspec": {
   "display_name": "astro",
   "language": "python",
   "name": "astro"
  },
  "language_info": {
   "codemirror_mode": {
    "name": "ipython",
    "version": 3
   },
   "file_extension": ".py",
   "mimetype": "text/x-python",
   "name": "python",
   "nbconvert_exporter": "python",
   "pygments_lexer": "ipython3",
   "version": "3.11.5"
  }
 },
 "nbformat": 4,
 "nbformat_minor": 5
}
